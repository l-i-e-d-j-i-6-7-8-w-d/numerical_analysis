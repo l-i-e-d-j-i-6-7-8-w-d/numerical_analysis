{
 "cells": [
  {
   "cell_type": "markdown",
   "metadata": {},
   "source": [
    "# Optimization: Practical work\n",
    "\n",
    "This tutorial aims at working on the optimization of truss type mechanical structures. Therefore, you will use the following library called [truss](http://truss.readthedocs.org/en/latest/index.html). \n",
    "\n",
    "Questions:\n",
    "\n",
    "1. Firsty, install the package and try it,\n",
    "2. The following structure (see below) aims at carrying a load $F = 10$ kN. All beams are made of steel with the following properties:\n",
    "  * Young's modulus $E = 210$ GPa,\n",
    "  * Density $\\rho = 7800$ kg/m$^3$,\n",
    "  * Cross section $S = 1$ cm$^2$,\n",
    "  * Yield stress $\\sigma_{y} = 400$ MPa.\n",
    "\n",
    "  <img src=\"truss.png\">\n",
    "\n",
    "3. Verify that the yield stress is not exceeded anywhere, do you think this structure has an optimimum weight ?\n",
    "4. Modify all the sections at the same time in order to minimize weight while keeping acceptable stress level,\n",
    "5. Modify the position along the $\\vec y$ axis of the points $D$, $F$ and $H$ in order to optimize the stiffness *vs.* mass ratio of the structure. Do not further modify the sections determined in question 4. Comment the solution.\n",
    "6. Same question with displacements also along $\\vec x$ of $C$, $D$, $E$ and $F$. Is it better ?\n",
    "7. You are now asked to optimize the cross section along with the position of $C$, $D$, $E$ and $F$ in order to reach the yield stress in each individual beam.\n",
    "8. You are now asked to perform topological optimization by removing/merging well chosen beams and nodes.\n"
   ]
  },
  {
   "cell_type": "code",
   "execution_count": null,
   "metadata": {
    "collapsed": true
   },
   "outputs": [],
   "source": []
  }
 ],
 "metadata": {
  "kernelspec": {
   "display_name": "Python 2",
   "language": "python",
   "name": "python2"
  },
  "language_info": {
   "codemirror_mode": {
    "name": "ipython",
    "version": 2
   },
   "file_extension": ".py",
   "mimetype": "text/x-python",
   "name": "python",
   "nbconvert_exporter": "python",
   "pygments_lexer": "ipython2",
   "version": "2.7.10"
  }
 },
 "nbformat": 4,
 "nbformat_minor": 0
}
