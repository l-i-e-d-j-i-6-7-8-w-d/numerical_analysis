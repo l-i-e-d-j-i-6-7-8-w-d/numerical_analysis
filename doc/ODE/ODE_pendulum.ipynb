{
 "cells": [
  {
   "cell_type": "markdown",
   "metadata": {},
   "source": [
    "# Ordinary Differential Equations : Pendulum\n",
    "\n",
    "\n",
    "![pendulum](https://upload.wikimedia.org/wikipedia/commons/f/fa/PenduloTmg.gif \"Simple pendulum\")\n",
    "\n"
   ]
  },
  {
   "cell_type": "code",
   "execution_count": 1,
   "metadata": {
    "collapsed": false
   },
   "outputs": [],
   "source": [
    "# Setup\n",
    "%matplotlib nbagg\n",
    "import numpy as np\n",
    "import matplotlib.pyplot as plt\n",
    "from scipy.integrate import odeint\n"
   ]
  },
  {
   "cell_type": "markdown",
   "metadata": {},
   "source": [
    "## Part 1: Theory\n",
    "\n",
    "* Find the ODE followed by $\\theta$.\n",
    "\n",
    "$$\n",
    "\\dot \\theta = \\ldots\n",
    "$$\n"
   ]
  },
  {
   "cell_type": "markdown",
   "metadata": {},
   "source": [
    "## Part 2: Reformulation\n",
    "\n",
    "* Reformulate the equation in order to match the standard formulation:\n",
    "\n",
    "$$\n",
    "X = \\begin{bmatrix} \\ldots \\end{bmatrix}\n",
    "$$\n",
    "\n",
    "$$\n",
    "\\dot X = f(X, t) = \\ldots\n",
    "$$\n",
    "\n",
    "* Write the function $f$ in Python"
   ]
  },
  {
   "cell_type": "code",
   "execution_count": 2,
   "metadata": {
    "collapsed": false
   },
   "outputs": [],
   "source": [
    "def f(X, t):\n",
    "    \"\"\"\n",
    "    ...\n",
    "    \"\"\"\n",
    "    return"
   ]
  },
  {
   "cell_type": "markdown",
   "metadata": {},
   "source": [
    "## Part 3: Numerical solution \n",
    "\n",
    "Solve the problem with Euler, RK4 and ODEint integrators and compare the results.\n",
    "\n",
    "\n"
   ]
  },
  {
   "cell_type": "code",
   "execution_count": null,
   "metadata": {
    "collapsed": true
   },
   "outputs": [],
   "source": []
  },
  {
   "cell_type": "markdown",
   "metadata": {},
   "source": [
    "## Part 4: Energies an errors\n",
    "\n",
    "Calculate and plot the kinetic energy $E_c$, the potential energy $E_p$ and the total energy $E_t = E_c + E_p$ for all 3 cases, plot it and comment."
   ]
  },
  {
   "cell_type": "code",
   "execution_count": null,
   "metadata": {
    "collapsed": false
   },
   "outputs": [],
   "source": []
  }
 ],
 "metadata": {
  "anaconda-cloud": {},
  "celltoolbar": "Slideshow",
  "kernelspec": {
   "display_name": "Python [conda env:myconda]",
   "language": "python",
   "name": "conda-env-myconda-py"
  },
  "language_info": {
   "codemirror_mode": {
    "name": "ipython",
    "version": 3
   },
   "file_extension": ".py",
   "mimetype": "text/x-python",
   "name": "python",
   "nbconvert_exporter": "python",
   "pygments_lexer": "ipython3",
   "version": "3.5.2"
  }
 },
 "nbformat": 4,
 "nbformat_minor": 0
}
