{
 "cells": [
  {
   "cell_type": "markdown",
   "metadata": {},
   "source": [
    "# Tutorial: The simple pendulum\n",
    "\n",
    "\n",
    "## Introduction\n",
    "\n",
    "This tutorial aims at modelling and solving the yet classical but not so simple problem of the pendulum. A representiation is given bellow (source: [Wikipedia](https://en.wikipedia.org/wiki/Pendulum)).\n",
    "\n",
    "![The simple pendulum](https://upload.wikimedia.org/wikipedia/commons/f/fa/PenduloTmg.gif \"Simple pendulum\")\n",
    "\n",
    "On a mechanical point of view, the mass $m$ is supposed to be concentrated at the lower end of the rigid arm. The length of the arm is noted $l$. The angle between the arm and the vertical direction is noted $\\theta$. A simple modelling using dynamics leads to:\n",
    "\n",
    "$$\n",
    "\\Gamma = \\vec P + \\vec T\n",
    "$$\n",
    "\n",
    "Where:\n",
    "\n",
    "* $\\vec \\Gamma$ is the acceleration of the mass,\n",
    "* $\\vec P$ if the weight of the mass, \n",
    "* $\\vec T$ if the reaction force of the arm.\n",
    "\n",
    "A projection of this equation along the direction perpendicular to the arm gives a more simple equation:\n",
    "\n",
    "$$\n",
    "\\ddot \\theta = \\dfrac{g}{l} \\sin \\theta\n",
    "$$\n",
    "\n",
    "This equation is a second order, non linear ODE. The closed form solution is only known when the equation is linearized by assuming that $\\theta$ is small enough to write that $\\sin \\theta \\approx \\theta$. In this tutorial, we will solve this problem with a numerical approach that does not require such simplification.\n"
   ]
  },
  {
   "cell_type": "code",
   "execution_count": 1,
   "metadata": {
    "collapsed": false
   },
   "outputs": [],
   "source": [
    "# Setup\n",
    "%matplotlib nbagg\n",
    "import numpy as np\n",
    "import pandas as pd\n",
    "import matplotlib.pyplot as plt\n",
    "from scipy.integrate import odeint\n"
   ]
  },
  {
   "cell_type": "markdown",
   "metadata": {},
   "source": [
    "### Numerical values"
   ]
  },
  {
   "cell_type": "code",
   "execution_count": 3,
   "metadata": {
    "collapsed": true
   },
   "outputs": [],
   "source": [
    "l = 1.   # m\n",
    "g = 9.81 # m/s**2"
   ]
  },
  {
   "cell_type": "markdown",
   "metadata": {},
   "source": [
    "## Part 1: Reformulation of the problem\n",
    "\n",
    "* This problem can be reformulated to match the standard formulation $\\dot X = f(X, t)$:\n",
    "\n",
    "$$\n",
    "X = \\begin{bmatrix} \\theta \\\\ \\dot \\theta \\end{bmatrix}\n",
    "= \\begin{bmatrix} x_0 \\\\ x_1 \\end{bmatrix}\n",
    "$$\n",
    "\n",
    "$$\n",
    "\\dot X = \\begin{bmatrix} x_1 \\\\ -\\dfrac{g}{l} \\sin x_0 \\end{bmatrix} = f(X, t) \n",
    "$$ \n",
    "\n",
    "* Write the function $f$ in Python:"
   ]
  },
  {
   "cell_type": "code",
   "execution_count": 1,
   "metadata": {
    "collapsed": false
   },
   "outputs": [],
   "source": [
    "def f(X, t):\n",
    "    \"\"\"\n",
    "    The derivative function\n",
    "    \"\"\"\n",
    "    # To be completed\n",
    "    return"
   ]
  },
  {
   "cell_type": "markdown",
   "metadata": {},
   "source": [
    "## Part 3: Numerical solution \n",
    "\n",
    "Solve the problem with Euler, RK4 and ODEint integrators and compare the results. First assume that the pendulum is released with no speed ($\\dot \\theta = 0 ^o/s$) at $\\theta = 10 ^o$. The time discretization will be as follows:\n",
    "\n",
    "* duration: 10 s,\n",
    "* time step: 0.01 s.\n"
   ]
  },
  {
   "cell_type": "code",
   "execution_count": 4,
   "metadata": {
    "collapsed": true
   },
   "outputs": [],
   "source": [
    "def Euler(func, X0, t):\n",
    "    \"\"\"\n",
    "    Euler integrator.\n",
    "    \"\"\"\n",
    "    dt = t[1] - t[0]\n",
    "    nt = len(t)\n",
    "    X  = np.zeros([nt, len(X0)])\n",
    "    X[0] = X0\n",
    "    for i in range(nt-1):\n",
    "        X[i+1] = X[i] + func(X[i], t[i]) * dt\n",
    "    return X\n",
    "\n",
    "def RK4(func, X0, t):\n",
    "    \"\"\"\n",
    "    Runge and Kutta 4 integrator.\n",
    "    \"\"\"\n",
    "    dt = t[1] - t[0]\n",
    "    nt = len(t)\n",
    "    X  = np.zeros([nt, len(X0)])\n",
    "    X[0] = X0\n",
    "    for i in range(nt-1):\n",
    "        k1 = func(X[i], t[i])\n",
    "        k2 = func(X[i] + dt/2. * k1, t[i] + dt/2.)\n",
    "        k3 = func(X[i] + dt/2. * k2, t[i] + dt/2.)\n",
    "        k4 = func(X[i] + dt    * k3, t[i] + dt)\n",
    "        X[i+1] = X[i] + dt / 6. * (k1 + 2. * k2 + 2. * k3 + k4)\n",
    "    return X\n",
    "\n",
    "# ODEint is preloaded.\n"
   ]
  },
  {
   "cell_type": "code",
   "execution_count": 6,
   "metadata": {
    "collapsed": true
   },
   "outputs": [],
   "source": [
    "# Define the time vector t and the initial conditions X0"
   ]
  },
  {
   "cell_type": "markdown",
   "metadata": {},
   "source": [
    "## Part 4: Energies an errors\n",
    "\n",
    "Calculate and plot the kinetic energy $E_c$, the potential energy $E_p$ and the total energy $E_t = E_c + E_p$ for all 3 cases, plot it and comment."
   ]
  },
  {
   "cell_type": "code",
   "execution_count": null,
   "metadata": {
    "collapsed": false
   },
   "outputs": [],
   "source": []
  }
 ],
 "metadata": {
  "anaconda-cloud": {},
  "celltoolbar": "Slideshow",
  "kernelspec": {
   "display_name": "Python [conda env:myconda]",
   "language": "python",
   "name": "conda-env-myconda-py"
  },
  "language_info": {
   "codemirror_mode": {
    "name": "ipython",
    "version": 3
   },
   "file_extension": ".py",
   "mimetype": "text/x-python",
   "name": "python",
   "nbconvert_exporter": "python",
   "pygments_lexer": "ipython3",
   "version": "3.5.2"
  }
 },
 "nbformat": 4,
 "nbformat_minor": 0
}
