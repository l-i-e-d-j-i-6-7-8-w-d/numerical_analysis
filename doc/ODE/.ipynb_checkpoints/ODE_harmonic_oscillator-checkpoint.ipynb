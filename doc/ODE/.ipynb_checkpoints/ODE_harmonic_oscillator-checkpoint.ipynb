{
 "cells": [
  {
   "cell_type": "markdown",
   "metadata": {},
   "source": [
    "# Ordinary Differential Equations : Practical work on the harmonic oscillator\n",
    "\n",
    "\n",
    "In this example, you will simulate an harmonic oscillator and compare the numerical solution to the closed form one. \n",
    "\n",
    "## Theory\n",
    "\n",
    "Read about the theory of harmonic oscillators on [Wikipedia](https://en.wikipedia.org/wiki/Harmonic_oscillator)\n",
    "\n",
    "### Mechanical oscillator\n",
    "\n",
    "The case of the one dimensional mechanical oscillator leads to the following equation:\n",
    "\n",
    "$$\n",
    "m \\ddot x + \\mu \\dot x + k x = m \\ddot x_d\n",
    "$$\n",
    "\n",
    "Where:\n",
    "\n",
    "* $x$ is the position,\n",
    "* $\\dot x$ and $\\ddot x$ are respectively the speed and acceleration,\n",
    "* $m$ is the mass,\n",
    "* $\\mu$ the \n",
    "* $k$ the stiffness,\n",
    "* and $\\ddot x_d$ the driving acceleration which is null if the oscillator is free.\n",
    "\n",
    "### Canonical equation\n",
    "\n",
    "Most 1D oscilators follow the same canonical equation:\n",
    "\n",
    "$$\n",
    "\\ddot x + 2 \\zeta \\omega_0 \\dot x + \\omega_0^2 x = \\ddot x_d\n",
    "$$\n",
    "\n",
    "Where:\n",
    "\n",
    "* $\\omega_0$ is the undamped pulsation,\n",
    "* $\\zeta$ is damping ratio,\n",
    "* $\\ddot x_d$ is the imposed acceleration. \n",
    "\n",
    "In the case of the mechanical oscillator:\n",
    "\n",
    "$$\n",
    "\\omega_0 = \\sqrt{\\dfrac{k}{m}}\n",
    "$$\n",
    "\n",
    "$$\n",
    "\\zeta = \\dfrac{\\mu}{2\\sqrt{mk}} \n",
    "$$\n",
    "\n",
    "### Undampened oscillator\n",
    "\n",
    "First, you will focus on the case of an undamped free oscillator ($\\zeta = 0$, $\\ddot x_d = 0$) with the following initial conditions:\n",
    "\n",
    "$$\n",
    "\\left \\lbrace\n",
    "\\begin{split}\n",
    "x(t = 0) = 1 \\\\\n",
    "\\dot x(t = 0) = 0\n",
    "\\end{split}\\right.\n",
    "$$\n",
    "\n",
    "The closed form solution is:\n",
    "$$\n",
    "x(t) = a\\cos \\omega_0 t\n",
    "$$\n"
   ]
  },
  {
   "cell_type": "code",
   "execution_count": 1,
   "metadata": {
    "collapsed": false
   },
   "outputs": [],
   "source": [
    "# Setup\n",
    "%matplotlib inline\n",
    "import numpy as np\n",
    "import matplotlib.pyplot as plt\n",
    "from scipy.integrate import odeint\n",
    "\n",
    "# Setup\n",
    "f0     = 1.\n",
    "omega0 = 2. * np.pi * f0\n",
    "a      = 1."
   ]
  },
  {
   "cell_type": "markdown",
   "metadata": {},
   "source": [
    "## Part 1: theoretical solution\n",
    "\n",
    "Plot the closed form solution of the undamped free oscillator for 5 periods.\n",
    "\n",
    "Steps:\n",
    "\n",
    "1. Create an array $t$ reprenting time,\n",
    "2. Create a function $x_{th}$ representing the amplitude of the closed form solution,\n",
    "3. Plot $x_{th}$ vs $t$."
   ]
  },
  {
   "cell_type": "code",
   "execution_count": 2,
   "metadata": {
    "collapsed": false
   },
   "outputs": [],
   "source": [
    "# Complete here\n",
    "#t = \n",
    "#xth = \n",
    "\n"
   ]
  },
  {
   "cell_type": "markdown",
   "metadata": {},
   "source": [
    "## Part 2: Numerical solution with Euler integrator\n",
    "\n",
    "Solve the problem introduced in question 1 with the Euler integrator.\n",
    "\n",
    "Steps:\n",
    "\n",
    "1. Rewrite the canonical equation as a system of first order ODEs depending of the variable $X = [x, \\dot x]$,\n",
    "2. Code the derivative function $f(X,t) = \\dot X$,\n",
    "3. Define initial conditions $X_0$,\n",
    "4. Solve the problem.\n",
    "5. Plot the position $x$ along and compare it with the theoretical solution."
   ]
  },
  {
   "cell_type": "code",
   "execution_count": null,
   "metadata": {
    "collapsed": true
   },
   "outputs": [],
   "source": []
  },
  {
   "cell_type": "markdown",
   "metadata": {},
   "source": [
    "## Part 3: Energies an errors\n",
    "\n",
    "Calculate and plot the kinetic energy $E_c$, the potential energy $E_p$ and the total energy $E_t = E_c + E_p$, comment the result.\n",
    "\n",
    "Steps:\n",
    "\n",
    "1. Calculate $E_c$,\n",
    "2. Calculate $E_p$,\n",
    "3. Calculate $E_t$,\n",
    "4. Plot the evolution of the 3 energies. You can use *plt.fill_between* instead of *plt.plot*,\n",
    "5. Use the results to define a relative error estimator base on energies.\n"
   ]
  },
  {
   "cell_type": "code",
   "execution_count": null,
   "metadata": {
    "collapsed": false
   },
   "outputs": [],
   "source": []
  },
  {
   "cell_type": "markdown",
   "metadata": {},
   "source": [
    "## Part 4:  Numerical solution convergence\n",
    "\n",
    "Plot the effect of the number time steps $n_t$ on the error $e$.\n",
    "\n",
    "Steps:\n",
    "\n",
    "1. Create an array containing the different number of time steps from 100 to 100000,\n",
    "2. Loop over this array and calculate the the error for each configuration,\n",
    "3. Plot the error as a function of $n_t$."
   ]
  },
  {
   "cell_type": "code",
   "execution_count": null,
   "metadata": {
    "collapsed": true
   },
   "outputs": [],
   "source": []
  },
  {
   "cell_type": "markdown",
   "metadata": {},
   "source": [
    "## Part 5: integrator benchmark\n",
    "\n",
    "Rewrite the code of part 4 in order to compare the RK4 and ODEint solvers with the Euler solver. Comment the efficiency of each solver."
   ]
  },
  {
   "cell_type": "code",
   "execution_count": null,
   "metadata": {
    "collapsed": true
   },
   "outputs": [],
   "source": []
  },
  {
   "cell_type": "markdown",
   "metadata": {},
   "source": [
    "## Part 6: Error *vs.* time\n",
    "\n",
    "Modify the code of part 5 in order to measure the computing time of each method in each case. Plot the error *vs.* the computing time. "
   ]
  }
 ],
 "metadata": {
  "anaconda-cloud": {},
  "celltoolbar": "Slideshow",
  "kernelspec": {
   "display_name": "Python [conda env:myconda]",
   "language": "python",
   "name": "conda-env-myconda-py"
  },
  "language_info": {
   "codemirror_mode": {
    "name": "ipython",
    "version": 3
   },
   "file_extension": ".py",
   "mimetype": "text/x-python",
   "name": "python",
   "nbconvert_exporter": "python",
   "pygments_lexer": "ipython3",
   "version": "3.5.2"
  }
 },
 "nbformat": 4,
 "nbformat_minor": 0
}
