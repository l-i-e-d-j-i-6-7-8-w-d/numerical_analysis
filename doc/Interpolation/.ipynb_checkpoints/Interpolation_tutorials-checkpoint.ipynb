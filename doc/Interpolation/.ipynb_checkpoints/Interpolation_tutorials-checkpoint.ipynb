{
 "cells": [
  {
   "cell_type": "markdown",
   "metadata": {},
   "source": [
    "# Tutorials\n",
    "\n",
    "\n",
    "## 1D interpolation\n",
    "\n",
    "* Define a mathematical function of your choice.\n",
    "* Sample it at a chose rate.\n",
    "* Try all known interpolation methods on the sampled points.\n",
    "* Estimate errors\n",
    "\n",
    "## 2D interpolation\n",
    "\n",
    "Proceed as with 1D interpolation with a mapping."
   ]
  },
  {
   "cell_type": "code",
   "execution_count": null,
   "metadata": {
    "collapsed": true
   },
   "outputs": [],
   "source": []
  }
 ],
 "metadata": {
  "kernelspec": {
   "display_name": "Python 2",
   "language": "python",
   "name": "python2"
  },
  "language_info": {
   "codemirror_mode": {
    "name": "ipython",
    "version": 2
   },
   "file_extension": ".py",
   "mimetype": "text/x-python",
   "name": "python",
   "nbconvert_exporter": "python",
   "pygments_lexer": "ipython2",
   "version": "2.7.10"
  }
 },
 "nbformat": 4,
 "nbformat_minor": 0
}
